{
 "cells": [
  {
   "cell_type": "markdown",
   "metadata": {},
   "source": [
    "# Deep learning tweeter"
   ]
  },
  {
   "cell_type": "markdown",
   "metadata": {},
   "source": [
    "## Imports"
   ]
  },
  {
   "cell_type": "code",
   "execution_count": 7,
   "metadata": {
    "ExecuteTime": {
     "end_time": "2019-06-09T00:23:55.085890Z",
     "start_time": "2019-06-09T00:23:54.333025Z"
    }
   },
   "outputs": [
    {
     "data": {
      "text/html": [
       "        <script type=\"text/javascript\">\n",
       "        window.PlotlyConfig = {MathJaxConfig: 'local'};\n",
       "        if (window.MathJax) {MathJax.Hub.Config({SVG: {font: \"STIX-Web\"}});}\n",
       "        if (typeof require !== 'undefined') {\n",
       "        require.undef(\"plotly\");\n",
       "        requirejs.config({\n",
       "            paths: {\n",
       "                'plotly': ['https://cdn.plot.ly/plotly-latest.min']\n",
       "            }\n",
       "        });\n",
       "        require(['plotly'], function(Plotly) {\n",
       "            window._Plotly = Plotly;\n",
       "        });\n",
       "        }\n",
       "        </script>\n",
       "        "
      ]
     },
     "metadata": {},
     "output_type": "display_data"
    }
   ],
   "source": [
    "import sys\n",
    "import cufflinks\n",
    "import pandas as pd\n",
    "import numpy as np\n",
    "from tqdm import tqdm\n",
    "import warnings\n",
    "import pickle\n",
    "\n",
    "warnings.filterwarnings('ignore')\n",
    "\n",
    "sys.path.append('./../')\n",
    "cufflinks.go_offline()"
   ]
  },
  {
   "cell_type": "code",
   "execution_count": 8,
   "metadata": {
    "ExecuteTime": {
     "end_time": "2019-06-09T00:23:55.425784Z",
     "start_time": "2019-06-09T00:23:55.087786Z"
    }
   },
   "outputs": [],
   "source": [
    "from Corpus.Corpus import get_corpus, filter_binary_pn, filter_corpus_small\n",
    "from auxiliar.VectorizerHelper import vectorizer, vectorizerIdf\n",
    "from auxiliar import parameters\n",
    "from sklearn.model_selection import KFold\n",
    "from auxiliar.HtmlParser import HtmlParser"
   ]
  },
  {
   "cell_type": "code",
   "execution_count": 9,
   "metadata": {
    "ExecuteTime": {
     "end_time": "2019-06-09T00:23:58.782309Z",
     "start_time": "2019-06-09T00:23:58.770261Z"
    }
   },
   "outputs": [
    {
     "name": "stderr",
     "output_type": "stream",
     "text": [
      "Using Theano backend.\n",
      "WARNING (theano.tensor.blas): Using NumPy C-API based implementation for BLAS functions.\n"
     ]
    }
   ],
   "source": [
    "# Importaciones para DeepLearning\n",
    "from keras.layers import Dense, Activation, LSTM, Dropout, Convolution1D, MaxPooling1D, Embedding, Conv2D, \\\n",
    "    MaxPooling2D, Reshape, Flatten, BatchNormalization, TimeDistributed\n",
    "from keras.models import Sequential, load_model\n",
    "from keras import callbacks\n",
    "from keras import backend as K\n",
    "from keras.layers import Bidirectional\n",
    "from keras.models import Model\n",
    "K.set_image_dim_ordering('th') "
   ]
  },
  {
   "cell_type": "code",
   "execution_count": 10,
   "metadata": {
    "ExecuteTime": {
     "end_time": "2019-02-20T13:53:03.206542Z",
     "start_time": "2019-02-20T13:53:03.126306Z"
    }
   },
   "outputs": [],
   "source": [
    "import logging\n",
    "import math\n",
    "import pickle\n",
    "import pandas as pd\n",
    "import Levenshtein as lv\n",
    "from gensim.models import Doc2Vec\n",
    "import gensim\n",
    "from nltk.tokenize import word_tokenize\n",
    "from Corpus.Corpus import get_corpus, filter_binary_pn, filter_corpus_small\n",
    "from keras.preprocessing import sequence\n",
    "from keras.utils import to_categorical\n",
    "from time import time, strftime"
   ]
  },
  {
   "cell_type": "markdown",
   "metadata": {},
   "source": [
    "## Config"
   ]
  },
  {
   "cell_type": "code",
   "execution_count": 11,
   "metadata": {
    "ExecuteTime": {
     "end_time": "2019-06-09T00:24:11.551453Z",
     "start_time": "2019-06-09T00:24:11.541352Z"
    }
   },
   "outputs": [],
   "source": [
    "polarity_dim = 2\n",
    "clasificadores=['lstm', '2lstm', '2dcnn', '2dcnn+lstm', 'cnn+lstm', 'bidirectionalLstm']\n",
    "idf = True\n",
    "target_names=['Neg', 'Pos']\n",
    "kfolds = 10\n",
    "base_dir = '2-clases' if polarity_dim == 2 else ('3-clases' if polarity_dim == 3 else '5-clases')\n",
    "name = 'deep_learning'"
   ]
  },
  {
   "cell_type": "code",
   "execution_count": null,
   "metadata": {},
   "outputs": [],
   "source": []
  },
  {
   "cell_type": "markdown",
   "metadata": {},
   "source": [
    "## Get data"
   ]
  },
  {
   "cell_type": "code",
   "execution_count": 12,
   "metadata": {
    "ExecuteTime": {
     "end_time": "2019-02-20T13:53:03.781140Z",
     "start_time": "2019-02-20T13:53:03.302585Z"
    }
   },
   "outputs": [
    {
     "name": "stdout",
     "output_type": "stream",
     "text": [
      "[Errno 2] File b'data/pelis.csv' does not exist: b'data/pelis.csv'\n"
     ]
    },
    {
     "ename": "AttributeError",
     "evalue": "'NoneType' object has no attribute 'find_all'",
     "output_type": "error",
     "traceback": [
      "\u001b[0;31m---------------------------------------------------------------------------\u001b[0m",
      "\u001b[0;31mFileNotFoundError\u001b[0m                         Traceback (most recent call last)",
      "\u001b[0;32m~/Documentos/SentimentAnalysis/auxiliar/HtmlParser.py\u001b[0m in \u001b[0;36mget_corpus\u001b[0;34m(self)\u001b[0m\n\u001b[1;32m     30\u001b[0m         \u001b[0;32mtry\u001b[0m\u001b[0;34m:\u001b[0m\u001b[0;34m\u001b[0m\u001b[0;34m\u001b[0m\u001b[0m\n\u001b[0;32m---> 31\u001b[0;31m             \u001b[0mself\u001b[0m\u001b[0;34m.\u001b[0m\u001b[0mcorpus\u001b[0m \u001b[0;34m=\u001b[0m \u001b[0mself\u001b[0m\u001b[0;34m.\u001b[0m\u001b[0mload_data\u001b[0m\u001b[0;34m(\u001b[0m\u001b[0;34m)\u001b[0m\u001b[0;34m\u001b[0m\u001b[0;34m\u001b[0m\u001b[0m\n\u001b[0m\u001b[1;32m     32\u001b[0m         \u001b[0;32mexcept\u001b[0m \u001b[0mException\u001b[0m \u001b[0;32mas\u001b[0m \u001b[0me\u001b[0m\u001b[0;34m:\u001b[0m\u001b[0;34m\u001b[0m\u001b[0;34m\u001b[0m\u001b[0m\n",
      "\u001b[0;32m~/Documentos/SentimentAnalysis/auxiliar/HtmlParser.py\u001b[0m in \u001b[0;36mload_data\u001b[0;34m()\u001b[0m\n\u001b[1;32m    133\u001b[0m     \u001b[0;32mdef\u001b[0m \u001b[0mload_data\u001b[0m\u001b[0;34m(\u001b[0m\u001b[0;34m)\u001b[0m\u001b[0;34m:\u001b[0m\u001b[0;34m\u001b[0m\u001b[0;34m\u001b[0m\u001b[0m\n\u001b[0;32m--> 134\u001b[0;31m         \u001b[0;32mreturn\u001b[0m \u001b[0mpd\u001b[0m\u001b[0;34m.\u001b[0m\u001b[0mread_csv\u001b[0m\u001b[0;34m(\u001b[0m\u001b[0;34m'data/pelis.csv'\u001b[0m\u001b[0;34m,\u001b[0m \u001b[0mencoding\u001b[0m\u001b[0;34m=\u001b[0m\u001b[0;34m'utf-8'\u001b[0m\u001b[0;34m)\u001b[0m\u001b[0;34m\u001b[0m\u001b[0;34m\u001b[0m\u001b[0m\n\u001b[0m\u001b[1;32m    135\u001b[0m \u001b[0;34m\u001b[0m\u001b[0m\n",
      "\u001b[0;32m~/.local/lib/python3.7/site-packages/pandas/io/parsers.py\u001b[0m in \u001b[0;36mparser_f\u001b[0;34m(filepath_or_buffer, sep, delimiter, header, names, index_col, usecols, squeeze, prefix, mangle_dupe_cols, dtype, engine, converters, true_values, false_values, skipinitialspace, skiprows, skipfooter, nrows, na_values, keep_default_na, na_filter, verbose, skip_blank_lines, parse_dates, infer_datetime_format, keep_date_col, date_parser, dayfirst, iterator, chunksize, compression, thousands, decimal, lineterminator, quotechar, quoting, doublequote, escapechar, comment, encoding, dialect, tupleize_cols, error_bad_lines, warn_bad_lines, delim_whitespace, low_memory, memory_map, float_precision)\u001b[0m\n\u001b[1;32m    701\u001b[0m \u001b[0;34m\u001b[0m\u001b[0m\n\u001b[0;32m--> 702\u001b[0;31m         \u001b[0;32mreturn\u001b[0m \u001b[0m_read\u001b[0m\u001b[0;34m(\u001b[0m\u001b[0mfilepath_or_buffer\u001b[0m\u001b[0;34m,\u001b[0m \u001b[0mkwds\u001b[0m\u001b[0;34m)\u001b[0m\u001b[0;34m\u001b[0m\u001b[0;34m\u001b[0m\u001b[0m\n\u001b[0m\u001b[1;32m    703\u001b[0m \u001b[0;34m\u001b[0m\u001b[0m\n",
      "\u001b[0;32m~/.local/lib/python3.7/site-packages/pandas/io/parsers.py\u001b[0m in \u001b[0;36m_read\u001b[0;34m(filepath_or_buffer, kwds)\u001b[0m\n\u001b[1;32m    428\u001b[0m     \u001b[0;31m# Create the parser.\u001b[0m\u001b[0;34m\u001b[0m\u001b[0;34m\u001b[0m\u001b[0;34m\u001b[0m\u001b[0m\n\u001b[0;32m--> 429\u001b[0;31m     \u001b[0mparser\u001b[0m \u001b[0;34m=\u001b[0m \u001b[0mTextFileReader\u001b[0m\u001b[0;34m(\u001b[0m\u001b[0mfilepath_or_buffer\u001b[0m\u001b[0;34m,\u001b[0m \u001b[0;34m**\u001b[0m\u001b[0mkwds\u001b[0m\u001b[0;34m)\u001b[0m\u001b[0;34m\u001b[0m\u001b[0;34m\u001b[0m\u001b[0m\n\u001b[0m\u001b[1;32m    430\u001b[0m \u001b[0;34m\u001b[0m\u001b[0m\n",
      "\u001b[0;32m~/.local/lib/python3.7/site-packages/pandas/io/parsers.py\u001b[0m in \u001b[0;36m__init__\u001b[0;34m(self, f, engine, **kwds)\u001b[0m\n\u001b[1;32m    894\u001b[0m \u001b[0;34m\u001b[0m\u001b[0m\n\u001b[0;32m--> 895\u001b[0;31m         \u001b[0mself\u001b[0m\u001b[0;34m.\u001b[0m\u001b[0m_make_engine\u001b[0m\u001b[0;34m(\u001b[0m\u001b[0mself\u001b[0m\u001b[0;34m.\u001b[0m\u001b[0mengine\u001b[0m\u001b[0;34m)\u001b[0m\u001b[0;34m\u001b[0m\u001b[0;34m\u001b[0m\u001b[0m\n\u001b[0m\u001b[1;32m    896\u001b[0m \u001b[0;34m\u001b[0m\u001b[0m\n",
      "\u001b[0;32m~/.local/lib/python3.7/site-packages/pandas/io/parsers.py\u001b[0m in \u001b[0;36m_make_engine\u001b[0;34m(self, engine)\u001b[0m\n\u001b[1;32m   1121\u001b[0m         \u001b[0;32mif\u001b[0m \u001b[0mengine\u001b[0m \u001b[0;34m==\u001b[0m \u001b[0;34m'c'\u001b[0m\u001b[0;34m:\u001b[0m\u001b[0;34m\u001b[0m\u001b[0;34m\u001b[0m\u001b[0m\n\u001b[0;32m-> 1122\u001b[0;31m             \u001b[0mself\u001b[0m\u001b[0;34m.\u001b[0m\u001b[0m_engine\u001b[0m \u001b[0;34m=\u001b[0m \u001b[0mCParserWrapper\u001b[0m\u001b[0;34m(\u001b[0m\u001b[0mself\u001b[0m\u001b[0;34m.\u001b[0m\u001b[0mf\u001b[0m\u001b[0;34m,\u001b[0m \u001b[0;34m**\u001b[0m\u001b[0mself\u001b[0m\u001b[0;34m.\u001b[0m\u001b[0moptions\u001b[0m\u001b[0;34m)\u001b[0m\u001b[0;34m\u001b[0m\u001b[0;34m\u001b[0m\u001b[0m\n\u001b[0m\u001b[1;32m   1123\u001b[0m         \u001b[0;32melse\u001b[0m\u001b[0;34m:\u001b[0m\u001b[0;34m\u001b[0m\u001b[0;34m\u001b[0m\u001b[0m\n",
      "\u001b[0;32m~/.local/lib/python3.7/site-packages/pandas/io/parsers.py\u001b[0m in \u001b[0;36m__init__\u001b[0;34m(self, src, **kwds)\u001b[0m\n\u001b[1;32m   1852\u001b[0m \u001b[0;34m\u001b[0m\u001b[0m\n\u001b[0;32m-> 1853\u001b[0;31m         \u001b[0mself\u001b[0m\u001b[0;34m.\u001b[0m\u001b[0m_reader\u001b[0m \u001b[0;34m=\u001b[0m \u001b[0mparsers\u001b[0m\u001b[0;34m.\u001b[0m\u001b[0mTextReader\u001b[0m\u001b[0;34m(\u001b[0m\u001b[0msrc\u001b[0m\u001b[0;34m,\u001b[0m \u001b[0;34m**\u001b[0m\u001b[0mkwds\u001b[0m\u001b[0;34m)\u001b[0m\u001b[0;34m\u001b[0m\u001b[0;34m\u001b[0m\u001b[0m\n\u001b[0m\u001b[1;32m   1854\u001b[0m         \u001b[0mself\u001b[0m\u001b[0;34m.\u001b[0m\u001b[0munnamed_cols\u001b[0m \u001b[0;34m=\u001b[0m \u001b[0mself\u001b[0m\u001b[0;34m.\u001b[0m\u001b[0m_reader\u001b[0m\u001b[0;34m.\u001b[0m\u001b[0munnamed_cols\u001b[0m\u001b[0;34m\u001b[0m\u001b[0;34m\u001b[0m\u001b[0m\n",
      "\u001b[0;32mpandas/_libs/parsers.pyx\u001b[0m in \u001b[0;36mpandas._libs.parsers.TextReader.__cinit__\u001b[0;34m()\u001b[0m\n",
      "\u001b[0;32mpandas/_libs/parsers.pyx\u001b[0m in \u001b[0;36mpandas._libs.parsers.TextReader._setup_parser_source\u001b[0;34m()\u001b[0m\n",
      "\u001b[0;31mFileNotFoundError\u001b[0m: [Errno 2] File b'data/pelis.csv' does not exist: b'data/pelis.csv'",
      "\nDuring handling of the above exception, another exception occurred:\n",
      "\u001b[0;31mAttributeError\u001b[0m                            Traceback (most recent call last)",
      "\u001b[0;32m<ipython-input-12-68f3c4b74802>\u001b[0m in \u001b[0;36m<module>\u001b[0;34m\u001b[0m\n\u001b[1;32m      4\u001b[0m \u001b[0;32mif\u001b[0m \u001b[0mpolarity_dim\u001b[0m \u001b[0;34m==\u001b[0m \u001b[0;36m2\u001b[0m\u001b[0;34m:\u001b[0m\u001b[0;34m\u001b[0m\u001b[0;34m\u001b[0m\u001b[0m\n\u001b[1;32m      5\u001b[0m     \u001b[0;31m#data_corpus = filter_binary_pn(data_corpus)\u001b[0m\u001b[0;34m\u001b[0m\u001b[0;34m\u001b[0m\u001b[0;34m\u001b[0m\u001b[0m\n\u001b[0;32m----> 6\u001b[0;31m     \u001b[0mcine\u001b[0m \u001b[0;34m=\u001b[0m \u001b[0mfilter_binary_pn\u001b[0m\u001b[0;34m(\u001b[0m\u001b[0mcine\u001b[0m\u001b[0;34m.\u001b[0m\u001b[0mget_corpus\u001b[0m\u001b[0;34m(\u001b[0m\u001b[0;34m)\u001b[0m\u001b[0;34m)\u001b[0m\u001b[0;34m\u001b[0m\u001b[0;34m\u001b[0m\u001b[0m\n\u001b[0m\u001b[1;32m      7\u001b[0m \u001b[0;32melif\u001b[0m \u001b[0mpolarity_dim\u001b[0m \u001b[0;34m==\u001b[0m \u001b[0;36m3\u001b[0m\u001b[0;34m:\u001b[0m\u001b[0;34m\u001b[0m\u001b[0;34m\u001b[0m\u001b[0m\n\u001b[1;32m      8\u001b[0m     \u001b[0;31m#data_corpus = filter_corpus_small(data_corpus)\u001b[0m\u001b[0;34m\u001b[0m\u001b[0;34m\u001b[0m\u001b[0;34m\u001b[0m\u001b[0m\n",
      "\u001b[0;32m~/Documentos/SentimentAnalysis/auxiliar/HtmlParser.py\u001b[0m in \u001b[0;36mget_corpus\u001b[0;34m(self)\u001b[0m\n\u001b[1;32m     42\u001b[0m                 \u001b[0mdata\u001b[0m \u001b[0;34m=\u001b[0m \u001b[0mself\u001b[0m\u001b[0;34m.\u001b[0m\u001b[0murl_opener\u001b[0m\u001b[0;34m(\u001b[0m\u001b[0mlink\u001b[0m\u001b[0;34m,\u001b[0m \u001b[0mPARSER\u001b[0m\u001b[0;34m)\u001b[0m\u001b[0;34m\u001b[0m\u001b[0;34m\u001b[0m\u001b[0m\n\u001b[1;32m     43\u001b[0m                 \u001b[0;32mif\u001b[0m \u001b[0mdata\u001b[0m \u001b[0;32mis\u001b[0m \u001b[0;32mnot\u001b[0m \u001b[0;32mNone\u001b[0m\u001b[0;34m:\u001b[0m\u001b[0;34m\u001b[0m\u001b[0;34m\u001b[0m\u001b[0m\n\u001b[0;32m---> 44\u001b[0;31m                     \u001b[0mres\u001b[0m \u001b[0;34m=\u001b[0m \u001b[0mself\u001b[0m\u001b[0;34m.\u001b[0m\u001b[0mpage_parser\u001b[0m\u001b[0;34m(\u001b[0m\u001b[0mdata\u001b[0m\u001b[0;34m)\u001b[0m\u001b[0;34m\u001b[0m\u001b[0;34m\u001b[0m\u001b[0m\n\u001b[0m\u001b[1;32m     45\u001b[0m                     \u001b[0;32mfor\u001b[0m \u001b[0md\u001b[0m \u001b[0;32min\u001b[0m \u001b[0mres\u001b[0m\u001b[0;34m:\u001b[0m\u001b[0;34m\u001b[0m\u001b[0;34m\u001b[0m\u001b[0m\n\u001b[1;32m     46\u001b[0m                         \u001b[0;32mif\u001b[0m \u001b[0mlen\u001b[0m\u001b[0;34m(\u001b[0m\u001b[0md\u001b[0m\u001b[0;34m[\u001b[0m\u001b[0;34m'texto'\u001b[0m\u001b[0;34m]\u001b[0m\u001b[0;34m)\u001b[0m \u001b[0;34m>\u001b[0m \u001b[0;36m0\u001b[0m\u001b[0;34m:\u001b[0m\u001b[0;34m\u001b[0m\u001b[0;34m\u001b[0m\u001b[0m\n",
      "\u001b[0;32m~/Documentos/SentimentAnalysis/auxiliar/HtmlParser.py\u001b[0m in \u001b[0;36mpage_parser\u001b[0;34m(self, b_soup)\u001b[0m\n\u001b[1;32m     77\u001b[0m         \u001b[0mdata\u001b[0m \u001b[0;34m=\u001b[0m \u001b[0;34m[\u001b[0m\u001b[0;34m]\u001b[0m\u001b[0;34m\u001b[0m\u001b[0;34m\u001b[0m\u001b[0m\n\u001b[1;32m     78\u001b[0m         \u001b[0mlista\u001b[0m \u001b[0;34m=\u001b[0m \u001b[0mb_soup\u001b[0m\u001b[0;34m.\u001b[0m\u001b[0mfind\u001b[0m\u001b[0;34m(\u001b[0m\u001b[0;34m'div'\u001b[0m\u001b[0;34m,\u001b[0m \u001b[0;34m{\u001b[0m\u001b[0;34m'id'\u001b[0m\u001b[0;34m:\u001b[0m \u001b[0;34m'g2'\u001b[0m\u001b[0;34m}\u001b[0m\u001b[0;34m)\u001b[0m\u001b[0;34m\u001b[0m\u001b[0;34m\u001b[0m\u001b[0m\n\u001b[0;32m---> 79\u001b[0;31m         \u001b[0melementos\u001b[0m \u001b[0;34m=\u001b[0m \u001b[0mlista\u001b[0m\u001b[0;34m.\u001b[0m\u001b[0mfind_all\u001b[0m\u001b[0;34m(\u001b[0m\u001b[0;34m'li'\u001b[0m\u001b[0;34m)\u001b[0m\u001b[0;34m\u001b[0m\u001b[0;34m\u001b[0m\u001b[0m\n\u001b[0m\u001b[1;32m     80\u001b[0m         \u001b[0mel_len\u001b[0m \u001b[0;34m=\u001b[0m \u001b[0mlen\u001b[0m\u001b[0;34m(\u001b[0m\u001b[0melementos\u001b[0m\u001b[0;34m)\u001b[0m\u001b[0;34m\u001b[0m\u001b[0;34m\u001b[0m\u001b[0m\n\u001b[1;32m     81\u001b[0m         \u001b[0;32mwith\u001b[0m \u001b[0mtqdm\u001b[0m\u001b[0;34m(\u001b[0m\u001b[0mtotal\u001b[0m\u001b[0;34m=\u001b[0m\u001b[0mel_len\u001b[0m\u001b[0;34m)\u001b[0m \u001b[0;32mas\u001b[0m \u001b[0mpbar\u001b[0m\u001b[0;34m:\u001b[0m\u001b[0;34m\u001b[0m\u001b[0;34m\u001b[0m\u001b[0m\n",
      "\u001b[0;31mAttributeError\u001b[0m: 'NoneType' object has no attribute 'find_all'"
     ]
    }
   ],
   "source": [
    "cine = HtmlParser(200, \"http://www.muchocine.net/criticas_ultimas.php\", 1)\n",
    "#data_corpus = get_corpus('general-corpus', 'general-corpus', 1, None)\n",
    "\n",
    "if polarity_dim == 2:\n",
    "    #data_corpus = filter_binary_pn(data_corpus)\n",
    "    cine = filter_binary_pn(cine.get_corpus())\n",
    "elif polarity_dim == 3:\n",
    "    #data_corpus = filter_corpus_small(data_corpus)\n",
    "    cine = filter_corpus_small(cine.get_corpus())\n",
    "used_data = cine[:5000]\n",
    "#used_data = data_corpus\n",
    "split = round(len(used_data) * 0.8)\n",
    "try:\n",
    "    train_idx = pd.read_pickle('data/results/'+name+'/cine/'+base_dir+'/train_index.pickle').values.ravel()\n",
    "    test_idx = pd.read_pickle('data/results/'+name+'/cine/'+base_dir+'/test_index.pickle').values.ravel()\n",
    "except Exception as e:\n",
    "    print(e)\n",
    "    indices = np.random.permutation(len(used_data))\n",
    "    train_idx, test_idx = indices[:split], indices[split:]\n",
    "    pd.DataFrame(train_idx).to_pickle('data/results/'+name+'/cine/'+base_dir+'/train_index.pickle')\n",
    "    pd.DataFrame(test_idx).to_pickle('data/results/'+name+'/cine/'+base_dir+'/test_index.pickle')\n",
    "train_corpus = used_data.loc[train_idx]\n",
    "train_corpus = train_corpus.reset_index()\n",
    "test_corpus = used_data.loc[test_idx]\n",
    "test_corpus = test_corpus.reset_index()\n",
    "cine = None\n",
    "#data_corpus = None"
   ]
  },
  {
   "cell_type": "markdown",
   "metadata": {},
   "source": [
    "## Preprocess"
   ]
  },
  {
   "cell_type": "markdown",
   "metadata": {},
   "source": [
    "### Initialize"
   ]
  },
  {
   "cell_type": "code",
   "execution_count": 7,
   "metadata": {
    "ExecuteTime": {
     "end_time": "2019-02-20T13:53:03.812916Z",
     "start_time": "2019-02-20T13:53:03.782357Z"
    }
   },
   "outputs": [],
   "source": [
    "w2vec_file = 'data/w2vec.bin'\n",
    "prepro = vectorizerIdf.build_preprocessor()\n",
    "analyzer = vectorizerIdf.build_analyzer()\n",
    "root_logger = logging.getLogger()\n",
    "root_logger.setLevel(logging.DEBUG)\n",
    "handler = logging.FileHandler('entrenamiento-%s.log' % strftime(\"%d-%m-%Y-%H-%M\"), 'w', 'utf-8')  # or whatever\n",
    "handler.setFormatter = logging.Formatter('%(name)s %(message)s')  # or whatever\n",
    "root_logger.addHandler(handler)"
   ]
  },
  {
   "cell_type": "markdown",
   "metadata": {},
   "source": [
    "### Polarity distribution"
   ]
  },
  {
   "cell_type": "code",
   "execution_count": 8,
   "metadata": {
    "ExecuteTime": {
     "end_time": "2019-02-20T13:53:05.274901Z",
     "start_time": "2019-02-20T13:53:03.814287Z"
    }
   },
   "outputs": [
    {
     "data": {
      "application/vnd.plotly.v1+json": {
       "data": [
        {
         "marker": {
          "color": "rgba(255, 153, 51, 0.6)",
          "line": {
           "color": "rgba(255, 153, 51, 1.0)",
           "width": 1
          }
         },
         "name": "index",
         "orientation": "v",
         "text": "",
         "type": "bar",
         "uid": "3948e7fd-f9bf-431c-9a47-a98213a51ceb",
         "x": [
          0,
          1
         ],
         "y": [
          1586,
          2174
         ]
        }
       ],
       "layout": {
        "legend": {
         "bgcolor": "#F5F6F9",
         "font": {
          "color": "#4D5663"
         }
        },
        "paper_bgcolor": "#F5F6F9",
        "plot_bgcolor": "#F5F6F9",
        "titlefont": {
         "color": "#4D5663"
        },
        "xaxis": {
         "gridcolor": "#E1E5ED",
         "showgrid": true,
         "tickfont": {
          "color": "#4D5663"
         },
         "title": "",
         "titlefont": {
          "color": "#4D5663"
         },
         "zerolinecolor": "#E1E5ED"
        },
        "yaxis": {
         "gridcolor": "#E1E5ED",
         "showgrid": true,
         "tickfont": {
          "color": "#4D5663"
         },
         "title": "",
         "titlefont": {
          "color": "#4D5663"
         },
         "zerolinecolor": "#E1E5ED"
        }
       }
      },
      "text/html": [
       "<div id=\"dd385565-18bd-4c5b-a183-7ebbfba10ca5\" style=\"height: 525px; width: 100%;\" class=\"plotly-graph-div\"></div><script type=\"text/javascript\">require([\"plotly\"], function(Plotly) { window.PLOTLYENV=window.PLOTLYENV || {};window.PLOTLYENV.BASE_URL=\"https://plot.ly\";Plotly.newPlot(\"dd385565-18bd-4c5b-a183-7ebbfba10ca5\", [{\"marker\": {\"color\": \"rgba(255, 153, 51, 0.6)\", \"line\": {\"color\": \"rgba(255, 153, 51, 1.0)\", \"width\": 1}}, \"name\": \"index\", \"orientation\": \"v\", \"text\": \"\", \"x\": [0, 1], \"y\": [1586, 2174], \"type\": \"bar\", \"uid\": \"b61d591b-3fce-43a0-8dc2-5a01a9527472\"}], {\"legend\": {\"bgcolor\": \"#F5F6F9\", \"font\": {\"color\": \"#4D5663\"}}, \"paper_bgcolor\": \"#F5F6F9\", \"plot_bgcolor\": \"#F5F6F9\", \"titlefont\": {\"color\": \"#4D5663\"}, \"xaxis\": {\"gridcolor\": \"#E1E5ED\", \"showgrid\": true, \"tickfont\": {\"color\": \"#4D5663\"}, \"title\": \"\", \"titlefont\": {\"color\": \"#4D5663\"}, \"zerolinecolor\": \"#E1E5ED\"}, \"yaxis\": {\"gridcolor\": \"#E1E5ED\", \"showgrid\": true, \"tickfont\": {\"color\": \"#4D5663\"}, \"title\": \"\", \"titlefont\": {\"color\": \"#4D5663\"}, \"zerolinecolor\": \"#E1E5ED\"}}, {\"showLink\": true, \"linkText\": \"Export to plot.ly\"})});</script><script type=\"text/javascript\">window.addEventListener(\"resize\", function(){window._Plotly.Plots.resize(document.getElementById(\"dd385565-18bd-4c5b-a183-7ebbfba10ca5\"));});</script>"
      ],
      "text/vnd.plotly.v1+html": [
       "<div id=\"dd385565-18bd-4c5b-a183-7ebbfba10ca5\" style=\"height: 525px; width: 100%;\" class=\"plotly-graph-div\"></div><script type=\"text/javascript\">require([\"plotly\"], function(Plotly) { window.PLOTLYENV=window.PLOTLYENV || {};window.PLOTLYENV.BASE_URL=\"https://plot.ly\";Plotly.newPlot(\"dd385565-18bd-4c5b-a183-7ebbfba10ca5\", [{\"marker\": {\"color\": \"rgba(255, 153, 51, 0.6)\", \"line\": {\"color\": \"rgba(255, 153, 51, 1.0)\", \"width\": 1}}, \"name\": \"index\", \"orientation\": \"v\", \"text\": \"\", \"x\": [0, 1], \"y\": [1586, 2174], \"type\": \"bar\", \"uid\": \"b61d591b-3fce-43a0-8dc2-5a01a9527472\"}], {\"legend\": {\"bgcolor\": \"#F5F6F9\", \"font\": {\"color\": \"#4D5663\"}}, \"paper_bgcolor\": \"#F5F6F9\", \"plot_bgcolor\": \"#F5F6F9\", \"titlefont\": {\"color\": \"#4D5663\"}, \"xaxis\": {\"gridcolor\": \"#E1E5ED\", \"showgrid\": true, \"tickfont\": {\"color\": \"#4D5663\"}, \"title\": \"\", \"titlefont\": {\"color\": \"#4D5663\"}, \"zerolinecolor\": \"#E1E5ED\"}, \"yaxis\": {\"gridcolor\": \"#E1E5ED\", \"showgrid\": true, \"tickfont\": {\"color\": \"#4D5663\"}, \"title\": \"\", \"titlefont\": {\"color\": \"#4D5663\"}, \"zerolinecolor\": \"#E1E5ED\"}}, {\"showLink\": true, \"linkText\": \"Export to plot.ly\"})});</script><script type=\"text/javascript\">window.addEventListener(\"resize\", function(){window._Plotly.Plots.resize(document.getElementById(\"dd385565-18bd-4c5b-a183-7ebbfba10ca5\"));});</script>"
      ]
     },
     "metadata": {},
     "output_type": "display_data"
    }
   ],
   "source": [
    "train_corpus.groupby('polarity').agg({'index': 'count'}).iplot(kind='bar')"
   ]
  },
  {
   "cell_type": "markdown",
   "metadata": {
    "ExecuteTime": {
     "end_time": "2019-02-07T21:03:35.049784Z",
     "start_time": "2019-02-07T21:03:35.045787Z"
    }
   },
   "source": [
    "### Model initialization"
   ]
  },
  {
   "cell_type": "code",
   "execution_count": 9,
   "metadata": {
    "ExecuteTime": {
     "end_time": "2019-02-20T13:53:28.770516Z",
     "start_time": "2019-02-20T13:53:05.276562Z"
    }
   },
   "outputs": [],
   "source": [
    "model = gensim.models.keyedvectors.KeyedVectors.load_word2vec_format(w2vec_file, binary=True)"
   ]
  },
  {
   "cell_type": "markdown",
   "metadata": {},
   "source": [
    "### Parse text"
   ]
  },
  {
   "cell_type": "code",
   "execution_count": 10,
   "metadata": {
    "ExecuteTime": {
     "end_time": "2019-02-20T13:53:43.200881Z",
     "start_time": "2019-02-20T13:53:28.772329Z"
    }
   },
   "outputs": [],
   "source": [
    "def apply_prepro(data):\n",
    "    return prepro(data, 3, 0, 3)\n",
    "train_corpus.content = train_corpus.content.apply(apply_prepro)"
   ]
  },
  {
   "cell_type": "markdown",
   "metadata": {},
   "source": [
    "### Tokenize texts"
   ]
  },
  {
   "cell_type": "code",
   "execution_count": 11,
   "metadata": {
    "ExecuteTime": {
     "end_time": "2019-02-20T13:53:54.577299Z",
     "start_time": "2019-02-20T13:53:43.202245Z"
    }
   },
   "outputs": [],
   "source": [
    "def apply_tokenization(data):\n",
    "    return analyzer(data)\n",
    "tokens = train_corpus.content.apply(apply_tokenization)"
   ]
  },
  {
   "cell_type": "markdown",
   "metadata": {},
   "source": [
    "### Construct df"
   ]
  },
  {
   "cell_type": "code",
   "execution_count": 12,
   "metadata": {
    "ExecuteTime": {
     "end_time": "2019-02-20T13:53:55.520114Z",
     "start_time": "2019-02-20T13:53:54.578959Z"
    }
   },
   "outputs": [],
   "source": [
    "token_df = pd.DataFrame([x for x in tokens]).transpose()\n",
    "token_df.columns = pd.MultiIndex.from_arrays([train_corpus.polarity, token_df.columns])"
   ]
  },
  {
   "cell_type": "code",
   "execution_count": 13,
   "metadata": {
    "ExecuteTime": {
     "end_time": "2019-02-20T13:53:56.655701Z",
     "start_time": "2019-02-20T13:53:55.521618Z"
    }
   },
   "outputs": [
    {
     "name": "stdout",
     "output_type": "stream",
     "text": [
      "palabras totales 1004947\n",
      "media de palabras por texto 267.2731382978723\n"
     ]
    }
   ],
   "source": [
    "print('palabras totales', token_df.count().sum())\n",
    "print('media de palabras por texto', token_df.count().mean())"
   ]
  },
  {
   "cell_type": "code",
   "execution_count": 14,
   "metadata": {
    "ExecuteTime": {
     "end_time": "2019-02-20T13:53:57.345349Z",
     "start_time": "2019-02-20T13:53:56.657385Z"
    }
   },
   "outputs": [
    {
     "data": {
      "application/vnd.plotly.v1+json": {
       "data": [
        {
         "marker": {
          "color": "rgba(255, 153, 51, 0.6)",
          "line": {
           "color": "rgba(255, 153, 51, 1.0)",
           "width": 1
          }
         },
         "name": "0",
         "orientation": "v",
         "text": "",
         "type": "bar",
         "uid": "82f121b8-f703-4e85-96ab-f6d2b2b921e8",
         "x": [
          0,
          1
         ],
         "y": [
          394375,
          610572
         ]
        }
       ],
       "layout": {
        "legend": {
         "bgcolor": "#F5F6F9",
         "font": {
          "color": "#4D5663"
         }
        },
        "paper_bgcolor": "#F5F6F9",
        "plot_bgcolor": "#F5F6F9",
        "titlefont": {
         "color": "#4D5663"
        },
        "xaxis": {
         "gridcolor": "#E1E5ED",
         "showgrid": true,
         "tickfont": {
          "color": "#4D5663"
         },
         "title": "",
         "titlefont": {
          "color": "#4D5663"
         },
         "zerolinecolor": "#E1E5ED"
        },
        "yaxis": {
         "gridcolor": "#E1E5ED",
         "showgrid": true,
         "tickfont": {
          "color": "#4D5663"
         },
         "title": "",
         "titlefont": {
          "color": "#4D5663"
         },
         "zerolinecolor": "#E1E5ED"
        }
       }
      },
      "text/html": [
       "<div id=\"c39498fc-4630-47c6-8e06-520a6459065e\" style=\"height: 525px; width: 100%;\" class=\"plotly-graph-div\"></div><script type=\"text/javascript\">require([\"plotly\"], function(Plotly) { window.PLOTLYENV=window.PLOTLYENV || {};window.PLOTLYENV.BASE_URL=\"https://plot.ly\";Plotly.newPlot(\"c39498fc-4630-47c6-8e06-520a6459065e\", [{\"marker\": {\"color\": \"rgba(255, 153, 51, 0.6)\", \"line\": {\"color\": \"rgba(255, 153, 51, 1.0)\", \"width\": 1}}, \"name\": \"0\", \"orientation\": \"v\", \"text\": \"\", \"x\": [0, 1], \"y\": [394375, 610572], \"type\": \"bar\", \"uid\": \"79322661-9f99-49ea-b03d-b7e0923b6058\"}], {\"legend\": {\"bgcolor\": \"#F5F6F9\", \"font\": {\"color\": \"#4D5663\"}}, \"paper_bgcolor\": \"#F5F6F9\", \"plot_bgcolor\": \"#F5F6F9\", \"titlefont\": {\"color\": \"#4D5663\"}, \"xaxis\": {\"gridcolor\": \"#E1E5ED\", \"showgrid\": true, \"tickfont\": {\"color\": \"#4D5663\"}, \"title\": \"\", \"titlefont\": {\"color\": \"#4D5663\"}, \"zerolinecolor\": \"#E1E5ED\"}, \"yaxis\": {\"gridcolor\": \"#E1E5ED\", \"showgrid\": true, \"tickfont\": {\"color\": \"#4D5663\"}, \"title\": \"\", \"titlefont\": {\"color\": \"#4D5663\"}, \"zerolinecolor\": \"#E1E5ED\"}}, {\"showLink\": true, \"linkText\": \"Export to plot.ly\"})});</script><script type=\"text/javascript\">window.addEventListener(\"resize\", function(){window._Plotly.Plots.resize(document.getElementById(\"c39498fc-4630-47c6-8e06-520a6459065e\"));});</script>"
      ],
      "text/vnd.plotly.v1+html": [
       "<div id=\"c39498fc-4630-47c6-8e06-520a6459065e\" style=\"height: 525px; width: 100%;\" class=\"plotly-graph-div\"></div><script type=\"text/javascript\">require([\"plotly\"], function(Plotly) { window.PLOTLYENV=window.PLOTLYENV || {};window.PLOTLYENV.BASE_URL=\"https://plot.ly\";Plotly.newPlot(\"c39498fc-4630-47c6-8e06-520a6459065e\", [{\"marker\": {\"color\": \"rgba(255, 153, 51, 0.6)\", \"line\": {\"color\": \"rgba(255, 153, 51, 1.0)\", \"width\": 1}}, \"name\": \"0\", \"orientation\": \"v\", \"text\": \"\", \"x\": [0, 1], \"y\": [394375, 610572], \"type\": \"bar\", \"uid\": \"79322661-9f99-49ea-b03d-b7e0923b6058\"}], {\"legend\": {\"bgcolor\": \"#F5F6F9\", \"font\": {\"color\": \"#4D5663\"}}, \"paper_bgcolor\": \"#F5F6F9\", \"plot_bgcolor\": \"#F5F6F9\", \"titlefont\": {\"color\": \"#4D5663\"}, \"xaxis\": {\"gridcolor\": \"#E1E5ED\", \"showgrid\": true, \"tickfont\": {\"color\": \"#4D5663\"}, \"title\": \"\", \"titlefont\": {\"color\": \"#4D5663\"}, \"zerolinecolor\": \"#E1E5ED\"}, \"yaxis\": {\"gridcolor\": \"#E1E5ED\", \"showgrid\": true, \"tickfont\": {\"color\": \"#4D5663\"}, \"title\": \"\", \"titlefont\": {\"color\": \"#4D5663\"}, \"zerolinecolor\": \"#E1E5ED\"}}, {\"showLink\": true, \"linkText\": \"Export to plot.ly\"})});</script><script type=\"text/javascript\">window.addEventListener(\"resize\", function(){window._Plotly.Plots.resize(document.getElementById(\"c39498fc-4630-47c6-8e06-520a6459065e\"));});</script>"
      ]
     },
     "metadata": {},
     "output_type": "display_data"
    }
   ],
   "source": [
    "pd.DataFrame([token_df[x].count().sum() for x in token_df.columns.levels[0]]).iplot(kind='bar')"
   ]
  },
  {
   "cell_type": "markdown",
   "metadata": {},
   "source": [
    "### w2vec process"
   ]
  },
  {
   "cell_type": "code",
   "execution_count": 15,
   "metadata": {
    "ExecuteTime": {
     "end_time": "2019-02-20T13:54:12.380166Z",
     "start_time": "2019-02-20T13:53:57.347167Z"
    }
   },
   "outputs": [],
   "source": [
    "not_in_vocab = pd.concat([token_df[d][token_df[d].apply(lambda x: x not in model)] for d in token_df.columns], axis=1)"
   ]
  },
  {
   "cell_type": "code",
   "execution_count": 16,
   "metadata": {
    "ExecuteTime": {
     "end_time": "2019-02-20T13:54:13.719548Z",
     "start_time": "2019-02-20T13:54:12.392844Z"
    }
   },
   "outputs": [
    {
     "name": "stdout",
     "output_type": "stream",
     "text": [
      "total de palabras no encontradas en el vocabulario 38105\n",
      "media de palabras no encontradas en el conjunto 10.134308510638299\n"
     ]
    }
   ],
   "source": [
    "print('total de palabras no encontradas en el vocabulario', not_in_vocab.count().sum())\n",
    "print('media de palabras no encontradas en el conjunto', not_in_vocab.count().mean())"
   ]
  },
  {
   "cell_type": "code",
   "execution_count": 17,
   "metadata": {
    "ExecuteTime": {
     "end_time": "2019-02-20T13:54:14.781350Z",
     "start_time": "2019-02-20T13:54:13.729192Z"
    }
   },
   "outputs": [
    {
     "data": {
      "application/vnd.plotly.v1+json": {
       "data": [
        {
         "marker": {
          "color": "rgba(255, 153, 51, 0.6)",
          "line": {
           "color": "rgba(255, 153, 51, 1.0)",
           "width": 1
          }
         },
         "name": "0",
         "orientation": "v",
         "text": "",
         "type": "bar",
         "uid": "41b566d7-eb0e-407e-941e-f9b1988a4417",
         "x": [
          0,
          1
         ],
         "y": [
          13718,
          24387
         ]
        }
       ],
       "layout": {
        "legend": {
         "bgcolor": "#F5F6F9",
         "font": {
          "color": "#4D5663"
         }
        },
        "paper_bgcolor": "#F5F6F9",
        "plot_bgcolor": "#F5F6F9",
        "titlefont": {
         "color": "#4D5663"
        },
        "xaxis": {
         "gridcolor": "#E1E5ED",
         "showgrid": true,
         "tickfont": {
          "color": "#4D5663"
         },
         "title": "",
         "titlefont": {
          "color": "#4D5663"
         },
         "zerolinecolor": "#E1E5ED"
        },
        "yaxis": {
         "gridcolor": "#E1E5ED",
         "showgrid": true,
         "tickfont": {
          "color": "#4D5663"
         },
         "title": "",
         "titlefont": {
          "color": "#4D5663"
         },
         "zerolinecolor": "#E1E5ED"
        }
       }
      },
      "text/html": [
       "<div id=\"44c65a87-dc72-49a4-8dcd-1e72b677b93e\" style=\"height: 525px; width: 100%;\" class=\"plotly-graph-div\"></div><script type=\"text/javascript\">require([\"plotly\"], function(Plotly) { window.PLOTLYENV=window.PLOTLYENV || {};window.PLOTLYENV.BASE_URL=\"https://plot.ly\";Plotly.newPlot(\"44c65a87-dc72-49a4-8dcd-1e72b677b93e\", [{\"marker\": {\"color\": \"rgba(255, 153, 51, 0.6)\", \"line\": {\"color\": \"rgba(255, 153, 51, 1.0)\", \"width\": 1}}, \"name\": \"0\", \"orientation\": \"v\", \"text\": \"\", \"x\": [0, 1], \"y\": [13718, 24387], \"type\": \"bar\", \"uid\": \"3734bc8e-4d7e-4da8-9877-96323a1d90c9\"}], {\"legend\": {\"bgcolor\": \"#F5F6F9\", \"font\": {\"color\": \"#4D5663\"}}, \"paper_bgcolor\": \"#F5F6F9\", \"plot_bgcolor\": \"#F5F6F9\", \"titlefont\": {\"color\": \"#4D5663\"}, \"xaxis\": {\"gridcolor\": \"#E1E5ED\", \"showgrid\": true, \"tickfont\": {\"color\": \"#4D5663\"}, \"title\": \"\", \"titlefont\": {\"color\": \"#4D5663\"}, \"zerolinecolor\": \"#E1E5ED\"}, \"yaxis\": {\"gridcolor\": \"#E1E5ED\", \"showgrid\": true, \"tickfont\": {\"color\": \"#4D5663\"}, \"title\": \"\", \"titlefont\": {\"color\": \"#4D5663\"}, \"zerolinecolor\": \"#E1E5ED\"}}, {\"showLink\": true, \"linkText\": \"Export to plot.ly\"})});</script><script type=\"text/javascript\">window.addEventListener(\"resize\", function(){window._Plotly.Plots.resize(document.getElementById(\"44c65a87-dc72-49a4-8dcd-1e72b677b93e\"));});</script>"
      ],
      "text/vnd.plotly.v1+html": [
       "<div id=\"44c65a87-dc72-49a4-8dcd-1e72b677b93e\" style=\"height: 525px; width: 100%;\" class=\"plotly-graph-div\"></div><script type=\"text/javascript\">require([\"plotly\"], function(Plotly) { window.PLOTLYENV=window.PLOTLYENV || {};window.PLOTLYENV.BASE_URL=\"https://plot.ly\";Plotly.newPlot(\"44c65a87-dc72-49a4-8dcd-1e72b677b93e\", [{\"marker\": {\"color\": \"rgba(255, 153, 51, 0.6)\", \"line\": {\"color\": \"rgba(255, 153, 51, 1.0)\", \"width\": 1}}, \"name\": \"0\", \"orientation\": \"v\", \"text\": \"\", \"x\": [0, 1], \"y\": [13718, 24387], \"type\": \"bar\", \"uid\": \"3734bc8e-4d7e-4da8-9877-96323a1d90c9\"}], {\"legend\": {\"bgcolor\": \"#F5F6F9\", \"font\": {\"color\": \"#4D5663\"}}, \"paper_bgcolor\": \"#F5F6F9\", \"plot_bgcolor\": \"#F5F6F9\", \"titlefont\": {\"color\": \"#4D5663\"}, \"xaxis\": {\"gridcolor\": \"#E1E5ED\", \"showgrid\": true, \"tickfont\": {\"color\": \"#4D5663\"}, \"title\": \"\", \"titlefont\": {\"color\": \"#4D5663\"}, \"zerolinecolor\": \"#E1E5ED\"}, \"yaxis\": {\"gridcolor\": \"#E1E5ED\", \"showgrid\": true, \"tickfont\": {\"color\": \"#4D5663\"}, \"title\": \"\", \"titlefont\": {\"color\": \"#4D5663\"}, \"zerolinecolor\": \"#E1E5ED\"}}, {\"showLink\": true, \"linkText\": \"Export to plot.ly\"})});</script><script type=\"text/javascript\">window.addEventListener(\"resize\", function(){window._Plotly.Plots.resize(document.getElementById(\"44c65a87-dc72-49a4-8dcd-1e72b677b93e\"));});</script>"
      ]
     },
     "metadata": {},
     "output_type": "display_data"
    }
   ],
   "source": [
    "pd.DataFrame([not_in_vocab[x].count().sum() for x in not_in_vocab.columns.levels[0]]).iplot(kind='bar')"
   ]
  },
  {
   "cell_type": "code",
   "execution_count": 18,
   "metadata": {
    "ExecuteTime": {
     "end_time": "2019-02-20T13:54:14.793710Z",
     "start_time": "2019-02-20T13:54:14.785164Z"
    }
   },
   "outputs": [],
   "source": [
    "not_in_vocab.columns = not_in_vocab.columns.droplevel()"
   ]
  },
  {
   "cell_type": "code",
   "execution_count": 19,
   "metadata": {
    "ExecuteTime": {
     "end_time": "2019-02-20T13:54:17.407456Z",
     "start_time": "2019-02-20T13:54:14.796776Z"
    }
   },
   "outputs": [],
   "source": [
    "not_in_vocab_words = pd.DataFrame(\n",
    "    [x for sublist in [not_in_vocab[y].dropna().values for y in not_in_vocab.columns] for x in sublist]\n",
    ").drop_duplicates()"
   ]
  },
  {
   "cell_type": "code",
   "execution_count": 20,
   "metadata": {
    "ExecuteTime": {
     "end_time": "2019-02-20T13:54:17.420872Z",
     "start_time": "2019-02-20T13:54:17.410557Z"
    }
   },
   "outputs": [],
   "source": [
    "def find_min_value(word, not_in_vocab_words):\n",
    "    min_len = max(len(word) - 1, 1)\n",
    "    max_len = len(word) + 1\n",
    "    reduced_df = not_in_vocab_words.loc[(not_in_vocab_words[0].str.len() >= min_len) \n",
    "                                        & (not_in_vocab_words[0].str.len() <= max_len)]\n",
    "    min_df = reduced_df[0].apply(lambda x: lv.distance(x, word))\n",
    "    if len(min_df) > 0:\n",
    "        min_idx = min_df.idxmin()\n",
    "        min_val = min_df.min()\n",
    "        if min_val < 3:\n",
    "            old_word = not_in_vocab_words[0][min_idx]\n",
    "            root_logger.info('current word %s - found_distance %s - idx to replace %s word replacement %s', old_word, min_val, min_idx, word)\n",
    "            found_words[word] = { 'val': min_val, 'word': word, 'old_word': old_word }\n",
    "    #         not_in_vocab[not_in_vocab == old_word] = word\n",
    "            return not_in_vocab_words.drop(min_idx)\n",
    "        else:\n",
    "            return not_in_vocab_words\n",
    "    else:\n",
    "        return not_in_vocab_words"
   ]
  },
  {
   "cell_type": "code",
   "execution_count": 21,
   "metadata": {
    "ExecuteTime": {
     "end_time": "2019-02-20T13:54:17.650247Z",
     "start_time": "2019-02-20T13:54:17.424835Z"
    }
   },
   "outputs": [],
   "source": [
    "try:\n",
    "    found_words_df = pd.read_pickle('data/results/'+name+'/cine/'+base_dir+'/found_words_vocab.pkl')\n",
    "except Exception as e:\n",
    "    found_words = dict()\n",
    "    with tqdm(total=len(model.vocab)) as pbar:\n",
    "        for x in model.vocab:\n",
    "            if len(not_in_vocab_words) == 0:\n",
    "                break\n",
    "            pbar.update(1)\n",
    "            not_in_vocab_words = find_min_value(x, not_in_vocab_words)\n",
    "    found_words_df = pd.DataFrame(found_words)\n",
    "    found_words_df.to_pickle('data/results/'+name+'/cine/'+base_dir+'/found_words_vocab.pkl')"
   ]
  },
  {
   "cell_type": "code",
   "execution_count": 8,
   "metadata": {
    "ExecuteTime": {
     "end_time": "2019-06-09T00:24:17.323655Z",
     "start_time": "2019-06-09T00:24:17.233936Z"
    }
   },
   "outputs": [
    {
     "ename": "NameError",
     "evalue": "name 'found_words_df' is not defined",
     "output_type": "error",
     "traceback": [
      "\u001b[0;31m---------------------------------------------------------------------------\u001b[0m",
      "\u001b[0;31mValueError\u001b[0m                                Traceback (most recent call last)",
      "\u001b[0;32m<ipython-input-8-e6d4f9c1cfb9>\u001b[0m in \u001b[0;36m<module>\u001b[0;34m\u001b[0m\n\u001b[1;32m      1\u001b[0m \u001b[0;32mtry\u001b[0m\u001b[0;34m:\u001b[0m\u001b[0;34m\u001b[0m\u001b[0;34m\u001b[0m\u001b[0m\n\u001b[0;32m----> 2\u001b[0;31m     \u001b[0mwemb_df\u001b[0m \u001b[0;34m=\u001b[0m \u001b[0mpd\u001b[0m\u001b[0;34m.\u001b[0m\u001b[0mread_json\u001b[0m\u001b[0;34m(\u001b[0m\u001b[0;34m'data/results/'\u001b[0m\u001b[0;34m+\u001b[0m\u001b[0mname\u001b[0m\u001b[0;34m+\u001b[0m\u001b[0;34m'/cine/'\u001b[0m\u001b[0;34m+\u001b[0m\u001b[0mbase_dir\u001b[0m\u001b[0;34m+\u001b[0m\u001b[0;34m'/wemb_df.json'\u001b[0m\u001b[0;34m)\u001b[0m\u001b[0;34m\u001b[0m\u001b[0;34m\u001b[0m\u001b[0m\n\u001b[0m\u001b[1;32m      3\u001b[0m \u001b[0;32mexcept\u001b[0m \u001b[0mException\u001b[0m \u001b[0;32mas\u001b[0m \u001b[0me\u001b[0m\u001b[0;34m:\u001b[0m\u001b[0;34m\u001b[0m\u001b[0;34m\u001b[0m\u001b[0m\n",
      "\u001b[0;32m~/miniconda3/lib/python3.6/site-packages/pandas/io/json/json.py\u001b[0m in \u001b[0;36mread_json\u001b[0;34m(path_or_buf, orient, typ, dtype, convert_axes, convert_dates, keep_default_dates, numpy, precise_float, date_unit, encoding, lines, chunksize, compression)\u001b[0m\n\u001b[1;32m    421\u001b[0m \u001b[0;34m\u001b[0m\u001b[0m\n\u001b[0;32m--> 422\u001b[0;31m     \u001b[0mresult\u001b[0m \u001b[0;34m=\u001b[0m \u001b[0mjson_reader\u001b[0m\u001b[0;34m.\u001b[0m\u001b[0mread\u001b[0m\u001b[0;34m(\u001b[0m\u001b[0;34m)\u001b[0m\u001b[0;34m\u001b[0m\u001b[0;34m\u001b[0m\u001b[0m\n\u001b[0m\u001b[1;32m    423\u001b[0m     \u001b[0;32mif\u001b[0m \u001b[0mshould_close\u001b[0m\u001b[0;34m:\u001b[0m\u001b[0;34m\u001b[0m\u001b[0;34m\u001b[0m\u001b[0m\n",
      "\u001b[0;32m~/miniconda3/lib/python3.6/site-packages/pandas/io/json/json.py\u001b[0m in \u001b[0;36mread\u001b[0;34m(self)\u001b[0m\n\u001b[1;32m    528\u001b[0m         \u001b[0;32melse\u001b[0m\u001b[0;34m:\u001b[0m\u001b[0;34m\u001b[0m\u001b[0;34m\u001b[0m\u001b[0m\n\u001b[0;32m--> 529\u001b[0;31m             \u001b[0mobj\u001b[0m \u001b[0;34m=\u001b[0m \u001b[0mself\u001b[0m\u001b[0;34m.\u001b[0m\u001b[0m_get_object_parser\u001b[0m\u001b[0;34m(\u001b[0m\u001b[0mself\u001b[0m\u001b[0;34m.\u001b[0m\u001b[0mdata\u001b[0m\u001b[0;34m)\u001b[0m\u001b[0;34m\u001b[0m\u001b[0;34m\u001b[0m\u001b[0m\n\u001b[0m\u001b[1;32m    530\u001b[0m         \u001b[0mself\u001b[0m\u001b[0;34m.\u001b[0m\u001b[0mclose\u001b[0m\u001b[0;34m(\u001b[0m\u001b[0;34m)\u001b[0m\u001b[0;34m\u001b[0m\u001b[0;34m\u001b[0m\u001b[0m\n",
      "\u001b[0;32m~/miniconda3/lib/python3.6/site-packages/pandas/io/json/json.py\u001b[0m in \u001b[0;36m_get_object_parser\u001b[0;34m(self, json)\u001b[0m\n\u001b[1;32m    545\u001b[0m         \u001b[0;32mif\u001b[0m \u001b[0mtyp\u001b[0m \u001b[0;34m==\u001b[0m \u001b[0;34m'frame'\u001b[0m\u001b[0;34m:\u001b[0m\u001b[0;34m\u001b[0m\u001b[0;34m\u001b[0m\u001b[0m\n\u001b[0;32m--> 546\u001b[0;31m             \u001b[0mobj\u001b[0m \u001b[0;34m=\u001b[0m \u001b[0mFrameParser\u001b[0m\u001b[0;34m(\u001b[0m\u001b[0mjson\u001b[0m\u001b[0;34m,\u001b[0m \u001b[0;34m**\u001b[0m\u001b[0mkwargs\u001b[0m\u001b[0;34m)\u001b[0m\u001b[0;34m.\u001b[0m\u001b[0mparse\u001b[0m\u001b[0;34m(\u001b[0m\u001b[0;34m)\u001b[0m\u001b[0;34m\u001b[0m\u001b[0;34m\u001b[0m\u001b[0m\n\u001b[0m\u001b[1;32m    547\u001b[0m \u001b[0;34m\u001b[0m\u001b[0m\n",
      "\u001b[0;32m~/miniconda3/lib/python3.6/site-packages/pandas/io/json/json.py\u001b[0m in \u001b[0;36mparse\u001b[0;34m(self)\u001b[0m\n\u001b[1;32m    637\u001b[0m         \u001b[0;32melse\u001b[0m\u001b[0;34m:\u001b[0m\u001b[0;34m\u001b[0m\u001b[0;34m\u001b[0m\u001b[0m\n\u001b[0;32m--> 638\u001b[0;31m             \u001b[0mself\u001b[0m\u001b[0;34m.\u001b[0m\u001b[0m_parse_no_numpy\u001b[0m\u001b[0;34m(\u001b[0m\u001b[0;34m)\u001b[0m\u001b[0;34m\u001b[0m\u001b[0;34m\u001b[0m\u001b[0m\n\u001b[0m\u001b[1;32m    639\u001b[0m \u001b[0;34m\u001b[0m\u001b[0m\n",
      "\u001b[0;32m~/miniconda3/lib/python3.6/site-packages/pandas/io/json/json.py\u001b[0m in \u001b[0;36m_parse_no_numpy\u001b[0;34m(self)\u001b[0m\n\u001b[1;32m    852\u001b[0m             self.obj = DataFrame(\n\u001b[0;32m--> 853\u001b[0;31m                 loads(json, precise_float=self.precise_float), dtype=None)\n\u001b[0m\u001b[1;32m    854\u001b[0m         \u001b[0;32melif\u001b[0m \u001b[0morient\u001b[0m \u001b[0;34m==\u001b[0m \u001b[0;34m\"split\"\u001b[0m\u001b[0;34m:\u001b[0m\u001b[0;34m\u001b[0m\u001b[0;34m\u001b[0m\u001b[0m\n",
      "\u001b[0;31mValueError\u001b[0m: Expected object or value",
      "\nDuring handling of the above exception, another exception occurred:\n",
      "\u001b[0;31mNameError\u001b[0m                                 Traceback (most recent call last)",
      "\u001b[0;32m<ipython-input-8-e6d4f9c1cfb9>\u001b[0m in \u001b[0;36m<module>\u001b[0;34m\u001b[0m\n\u001b[1;32m      2\u001b[0m     \u001b[0mwemb_df\u001b[0m \u001b[0;34m=\u001b[0m \u001b[0mpd\u001b[0m\u001b[0;34m.\u001b[0m\u001b[0mread_json\u001b[0m\u001b[0;34m(\u001b[0m\u001b[0;34m'data/results/'\u001b[0m\u001b[0;34m+\u001b[0m\u001b[0mname\u001b[0m\u001b[0;34m+\u001b[0m\u001b[0;34m'/cine/'\u001b[0m\u001b[0;34m+\u001b[0m\u001b[0mbase_dir\u001b[0m\u001b[0;34m+\u001b[0m\u001b[0;34m'/wemb_df.json'\u001b[0m\u001b[0;34m)\u001b[0m\u001b[0;34m\u001b[0m\u001b[0;34m\u001b[0m\u001b[0m\n\u001b[1;32m      3\u001b[0m \u001b[0;32mexcept\u001b[0m \u001b[0mException\u001b[0m \u001b[0;32mas\u001b[0m \u001b[0me\u001b[0m\u001b[0;34m:\u001b[0m\u001b[0;34m\u001b[0m\u001b[0;34m\u001b[0m\u001b[0m\n\u001b[0;32m----> 4\u001b[0;31m     \u001b[0mfound_words_df\u001b[0m \u001b[0;34m=\u001b[0m \u001b[0mfound_words_df\u001b[0m\u001b[0;34m.\u001b[0m\u001b[0mtranspose\u001b[0m\u001b[0;34m(\u001b[0m\u001b[0;34m)\u001b[0m\u001b[0;34m\u001b[0m\u001b[0;34m\u001b[0m\u001b[0m\n\u001b[0m\u001b[1;32m      5\u001b[0m \u001b[0;34m\u001b[0m\u001b[0m\n\u001b[1;32m      6\u001b[0m     \u001b[0;32mdef\u001b[0m \u001b[0mreplace_words\u001b[0m\u001b[0;34m(\u001b[0m\u001b[0mw\u001b[0m\u001b[0;34m,\u001b[0m \u001b[0mpbar\u001b[0m\u001b[0;34m)\u001b[0m\u001b[0;34m:\u001b[0m\u001b[0;34m\u001b[0m\u001b[0;34m\u001b[0m\u001b[0m\n",
      "\u001b[0;31mNameError\u001b[0m: name 'found_words_df' is not defined"
     ]
    }
   ],
   "source": [
    "try:\n",
    "    wemb_df = pd.read_json('data/results/'+name+'/cine/'+base_dir+'/wemb_df.json')\n",
    "except Exception as e:\n",
    "    found_words_df = found_words_df.transpose()\n",
    "\n",
    "    def replace_words(w, pbar):\n",
    "        pbar.update(1)\n",
    "        if not isinstance(w, str):\n",
    "            return w\n",
    "        try:\n",
    "            return found_words_df[found_words_df.old_word == w].word[0]\n",
    "        except:\n",
    "            return w\n",
    "\n",
    "    with tqdm(total=not_in_vocab.size) as pbar:\n",
    "        not_in_vocab = not_in_vocab.applymap(lambda x: replace_words(x, pbar))\n",
    "\n",
    "    not_in_vocab.columns = token_df.columns\n",
    "\n",
    "    token_df.update(not_in_vocab)\n",
    "\n",
    "    token_df.to_pickle('data/results/'+name+'/cine/'+base_dir+'/token_df.pkl')\n",
    "\n",
    "    def get_wemb(w, pbar):\n",
    "        pbar.update(1)\n",
    "        if isinstance(w, str):\n",
    "            return model[w] if w in model else np.array([0.0], dtype='float32')\n",
    "        else:\n",
    "            return w\n",
    "\n",
    "    token_df = token_df.applymap(lambda x: np.array([0.0], dtype='float32') if not isinstance(x, str) else x)\n",
    "\n",
    "    with tqdm(total=token_df.size) as pbar:\n",
    "        wemb_df = token_df.transpose().applymap(lambda x: get_wemb(x, pbar))\n",
    "\n",
    "wemb_values = wemb_df.values\n",
    "\n",
    "wemb_df.to_json('data/results/'+name+'/cine/'+base_dir+'/wemb_df.json')"
   ]
  },
  {
   "cell_type": "code",
   "execution_count": 23,
   "metadata": {
    "ExecuteTime": {
     "end_time": "2019-02-20T14:10:01.015240Z",
     "start_time": "2019-02-20T14:10:00.812484Z"
    }
   },
   "outputs": [],
   "source": [
    "features=300\n",
    "timesteps=len(wemb_df.columns)\n",
    "input_dim = 200\n",
    "neurons=256\n",
    "input_shape=(timesteps, features)"
   ]
  },
  {
   "cell_type": "code",
   "execution_count": 24,
   "metadata": {
    "ExecuteTime": {
     "end_time": "2019-02-20T14:20:44.992273Z",
     "start_time": "2019-02-20T14:10:01.019704Z"
    }
   },
   "outputs": [],
   "source": [
    "X = np.array([sequence.pad_sequences(x, maxlen=features, dtype='float32') for x in wemb_values])"
   ]
  },
  {
   "cell_type": "code",
   "execution_count": 33,
   "metadata": {
    "ExecuteTime": {
     "end_time": "2019-02-21T19:57:50.986523Z",
     "start_time": "2019-02-21T19:57:50.412783Z"
    }
   },
   "outputs": [],
   "source": [
    "Y = to_categorical([x for x in train_corpus.polarity.values])"
   ]
  },
  {
   "cell_type": "code",
   "execution_count": 34,
   "metadata": {
    "ExecuteTime": {
     "end_time": "2019-02-21T19:57:57.171437Z",
     "start_time": "2019-02-21T19:57:57.061531Z"
    }
   },
   "outputs": [
    {
     "data": {
      "text/plain": [
       "array([[0., 1.],\n",
       "       [1., 0.],\n",
       "       [0., 1.],\n",
       "       ...,\n",
       "       [0., 1.],\n",
       "       [0., 1.],\n",
       "       [1., 0.]], dtype=float32)"
      ]
     },
     "execution_count": 34,
     "metadata": {},
     "output_type": "execute_result"
    }
   ],
   "source": [
    "Y"
   ]
  },
  {
   "cell_type": "code",
   "execution_count": 27,
   "metadata": {
    "ExecuteTime": {
     "end_time": "2019-02-20T14:21:42.802057Z",
     "start_time": "2019-02-20T14:21:42.531552Z"
    }
   },
   "outputs": [
    {
     "data": {
      "text/plain": [
       "2"
      ]
     },
     "execution_count": 27,
     "metadata": {},
     "output_type": "execute_result"
    }
   ],
   "source": [
    "polarity_dim"
   ]
  },
  {
   "cell_type": "markdown",
   "metadata": {
    "ExecuteTime": {
     "end_time": "2019-02-04T21:04:58.467526Z",
     "start_time": "2019-02-04T21:04:58.463187Z"
    }
   },
   "source": [
    "## Initialize DL"
   ]
  },
  {
   "cell_type": "code",
   "execution_count": 28,
   "metadata": {
    "ExecuteTime": {
     "end_time": "2019-02-20T14:28:36.638939Z",
     "start_time": "2019-02-20T14:21:42.891393Z"
    }
   },
   "outputs": [],
   "source": [
    "model_lstm = Sequential()\n",
    "model_2lstm = Sequential()\n",
    "model_2dcnn = Sequential()\n",
    "model_2dcnnLstm = Sequential()\n",
    "model_cnn = Sequential()\n",
    "model_bidi = Sequential()\n",
    "\n",
    "model_lstm.add(LSTM(neurons, activation='tanh', input_shape=input_shape, name='lstm'))\n",
    "model_lstm.add(Dropout(0.5))\n",
    "model_lstm.add(Dense(polarity_dim, activation='softmax', name='dense'))\n",
    "model_lstm.compile(loss=\"categorical_crossentropy\", optimizer='adagrad', metrics=['accuracy'])\n",
    "\n",
    "model_2lstm.add(LSTM(neurons, activation='tanh', input_shape=input_shape, return_sequences=True, name='lstm'))\n",
    "model_2lstm.add(Dropout(0.5))\n",
    "model_2lstm.add(LSTM(neurons, activation='tanh'))\n",
    "model_2lstm.add(Dropout(0.5))\n",
    "model_2lstm.add(Dense(polarity_dim, activation='softmax', name='dense'))\n",
    "model_2lstm.compile(loss=\"categorical_crossentropy\", optimizer='adagrad', metrics=['accuracy'])\n",
    "\n",
    "model_2dcnn.add(Reshape((1, timesteps, features), input_shape=input_shape))\n",
    "model_2dcnn.add(Conv2D(128, (4, 300), padding='same', name='conv_layer'))\n",
    "model_2dcnn.add(Activation('relu'))\n",
    "model_2dcnn.add(MaxPooling2D(pool_size=(2,2), strides=None))\n",
    "model_2dcnn.add(Flatten())\n",
    "model_2dcnn.add(Dropout(0.5))\n",
    "model_2dcnn.add(Dense(polarity_dim, activation='softmax', name='dense'))\n",
    "model_2dcnn.compile(loss=\"categorical_crossentropy\", optimizer='adagrad', metrics=['accuracy'])\n",
    "\n",
    "model_2dcnnLstm.add(Reshape((1, timesteps, features), input_shape=input_shape))\n",
    "model_2dcnnLstm.add(Conv2D(128, (4, 300), padding='same', name='conv_layer'))\n",
    "model_2dcnnLstm.add(Activation('relu'))\n",
    "model_2dcnnLstm.add(MaxPooling2D(pool_size=(2,2), strides=None))\n",
    "model_2dcnnLstm.add(TimeDistributed(Flatten()))\n",
    "model_2dcnnLstm.add(LSTM(neurons))\n",
    "model_2dcnnLstm.add(Dropout(0.5))\n",
    "model_2dcnnLstm.add(Dense(polarity_dim, activation='softmax', name='dense'))\n",
    "model_2dcnnLstm.compile(loss=\"categorical_crossentropy\", optimizer='adagrad', metrics=['accuracy'])\n",
    "\n",
    "model_cnn.add(Convolution1D(128, 3, padding='same', name='conv_layer', input_shape=input_shape))\n",
    "model_cnn.add(Activation('tanh'))\n",
    "model_cnn.add(MaxPooling1D(4))\n",
    "model_cnn.add(LSTM(neurons, dropout=0.5))\n",
    "model_cnn.add(Dense(polarity_dim, activation='softmax', name='dense'))\n",
    "model_cnn.compile(loss=\"categorical_crossentropy\", optimizer='adagrad', metrics=['accuracy'])\n",
    "\n",
    "model_bidi.add(Bidirectional(LSTM(neurons), input_shape=input_shape))\n",
    "model_bidi.add(Dense(polarity_dim, activation='softmax', name='dense'))\n",
    "model_bidi.compile(loss=\"categorical_crossentropy\", optimizer='adagrad', metrics=['accuracy'])\n"
   ]
  },
  {
   "cell_type": "markdown",
   "metadata": {},
   "source": [
    "## Train"
   ]
  },
  {
   "cell_type": "code",
   "execution_count": 29,
   "metadata": {
    "ExecuteTime": {
     "end_time": "2019-02-20T14:28:36.746289Z",
     "start_time": "2019-02-20T14:28:36.640964Z"
    }
   },
   "outputs": [],
   "source": [
    "kf = KFold(n_splits=kfolds, shuffle=True, random_state=None) # realización de k-folds"
   ]
  },
  {
   "cell_type": "code",
   "execution_count": 30,
   "metadata": {
    "ExecuteTime": {
     "end_time": "2019-02-20T14:28:37.112520Z",
     "start_time": "2019-02-20T14:28:36.761371Z"
    }
   },
   "outputs": [],
   "source": [
    "monitor = 'val_loss'\n",
    "patience = 5\n",
    "cbks = [callbacks.EarlyStopping(monitor=monitor, patience=patience)]"
   ]
  },
  {
   "cell_type": "code",
   "execution_count": 31,
   "metadata": {
    "ExecuteTime": {
     "end_time": "2019-02-20T14:28:37.463464Z",
     "start_time": "2019-02-20T14:28:37.277000Z"
    }
   },
   "outputs": [],
   "source": [
    "pipeline = {\n",
    "    'lstm': model_lstm,\n",
    "    '2lstm': model_2lstm,\n",
    "    '2dcnn': model_2dcnn,\n",
    "    '2dcnn+lstm': model_2dcnnLstm,\n",
    "    'cnn+lstm': model_cnn,\n",
    "    'bidirectionalLstm': model_bidi\n",
    "}"
   ]
  },
  {
   "cell_type": "code",
   "execution_count": 35,
   "metadata": {
    "ExecuteTime": {
     "end_time": "2019-02-21T22:13:47.586315Z",
     "start_time": "2019-02-21T19:58:22.053253Z"
    }
   },
   "outputs": [
    {
     "name": "stderr",
     "output_type": "stream",
     "text": [
      "\r",
      "  0%|          | 0/60 [00:00<?, ?it/s]"
     ]
    },
    {
     "name": "stdout",
     "output_type": "stream",
     "text": [
      "[[0. 1.]\n",
      " [1. 0.]\n",
      " [0. 1.]\n",
      " ...\n",
      " [0. 1.]\n",
      " [0. 1.]\n",
      " [1. 0.]]\n",
      "Train on 2538 samples, validate on 846 samples\n",
      "Epoch 1/1000\n",
      "2538/2538 [==============================] - 596s 235ms/step - loss: 0.6883 - acc: 0.5713 - val_loss: 0.6758 - val_acc: 0.5981\n",
      "Epoch 2/1000\n",
      "2538/2538 [==============================] - 191s 75ms/step - loss: 0.6835 - acc: 0.5725 - val_loss: 0.6760 - val_acc: 0.5981\n",
      "Epoch 3/1000\n",
      "2538/2538 [==============================] - 193s 76ms/step - loss: 0.6831 - acc: 0.5725 - val_loss: 0.6756 - val_acc: 0.5981\n",
      "Epoch 4/1000\n",
      "2538/2538 [==============================] - 202s 80ms/step - loss: 0.6830 - acc: 0.5725 - val_loss: 0.6757 - val_acc: 0.5981\n",
      "Epoch 5/1000\n",
      "2538/2538 [==============================] - 197s 78ms/step - loss: 0.6829 - acc: 0.5725 - val_loss: 0.6754 - val_acc: 0.5981\n",
      "Epoch 6/1000\n",
      "2538/2538 [==============================] - 197s 78ms/step - loss: 0.6829 - acc: 0.5725 - val_loss: 0.6756 - val_acc: 0.5981\n",
      "Epoch 7/1000\n",
      "2538/2538 [==============================] - 209s 82ms/step - loss: 0.6828 - acc: 0.5725 - val_loss: 0.6755 - val_acc: 0.5981\n",
      "Epoch 8/1000\n",
      "2538/2538 [==============================] - 199s 78ms/step - loss: 0.6828 - acc: 0.5725 - val_loss: 0.6755 - val_acc: 0.5981\n",
      "Epoch 9/1000\n",
      "2538/2538 [==============================] - 204s 80ms/step - loss: 0.6832 - acc: 0.5725 - val_loss: 0.6755 - val_acc: 0.5981\n",
      "Epoch 10/1000\n",
      "2538/2538 [==============================] - 193s 76ms/step - loss: 0.6826 - acc: 0.5725 - val_loss: 0.6752 - val_acc: 0.5981\n",
      "Epoch 11/1000\n",
      "2538/2538 [==============================] - 200s 79ms/step - loss: 0.6828 - acc: 0.5725 - val_loss: 0.6754 - val_acc: 0.5981\n",
      "Epoch 12/1000\n",
      "2538/2538 [==============================] - 202s 80ms/step - loss: 0.6828 - acc: 0.5725 - val_loss: 0.6753 - val_acc: 0.5981\n",
      "Epoch 13/1000\n",
      "2538/2538 [==============================] - 205s 81ms/step - loss: 0.6832 - acc: 0.5725 - val_loss: 0.6754 - val_acc: 0.5981\n",
      "Epoch 14/1000\n",
      "2538/2538 [==============================] - 197s 78ms/step - loss: 0.6830 - acc: 0.5725 - val_loss: 0.6755 - val_acc: 0.5981\n",
      "Epoch 15/1000\n",
      "2538/2538 [==============================] - 199s 78ms/step - loss: 0.6830 - acc: 0.5725 - val_loss: 0.6754 - val_acc: 0.5981\n"
     ]
    },
    {
     "name": "stderr",
     "output_type": "stream",
     "text": [
      "\r",
      "  2%|▏         | 1/60 [1:25:19<83:54:38, 5119.98s/it]"
     ]
    },
    {
     "name": "stdout",
     "output_type": "stream",
     "text": [
      "[[0. 1.]\n",
      " [1. 0.]\n",
      " [0. 1.]\n",
      " ...\n",
      " [0. 1.]\n",
      " [0. 1.]\n",
      " [1. 0.]]\n",
      "Train on 2538 samples, validate on 846 samples\n",
      "Epoch 1/1000\n",
      "2538/2538 [==============================] - 367s 145ms/step - loss: 0.6846 - acc: 0.5662 - val_loss: 0.6757 - val_acc: 0.5993\n",
      "Epoch 2/1000\n",
      "2538/2538 [==============================] - 184s 73ms/step - loss: 0.6837 - acc: 0.5662 - val_loss: 0.6758 - val_acc: 0.5993\n",
      "Epoch 3/1000\n",
      "2538/2538 [==============================] - 195s 77ms/step - loss: 0.6845 - acc: 0.5662 - val_loss: 0.6761 - val_acc: 0.5993\n",
      "Epoch 4/1000\n",
      "2538/2538 [==============================] - 192s 76ms/step - loss: 0.6843 - acc: 0.5662 - val_loss: 0.6761 - val_acc: 0.5993\n",
      "Epoch 5/1000\n",
      "2538/2538 [==============================] - 192s 76ms/step - loss: 0.6839 - acc: 0.5662 - val_loss: 0.6759 - val_acc: 0.5993\n",
      "Epoch 6/1000\n",
      "2538/2538 [==============================] - 192s 76ms/step - loss: 0.6851 - acc: 0.5662 - val_loss: 0.6760 - val_acc: 0.5993\n"
     ]
    },
    {
     "name": "stderr",
     "output_type": "stream",
     "text": [
      "  3%|▎         | 2/60 [2:14:40<72:02:56, 4472.00s/it]\n"
     ]
    },
    {
     "ename": "MemoryError",
     "evalue": "",
     "output_type": "error",
     "traceback": [
      "\u001b[0;31m---------------------------------------------------------------------------\u001b[0m",
      "\u001b[0;31mMemoryError\u001b[0m                               Traceback (most recent call last)",
      "\u001b[0;32m<ipython-input-35-f9be240d67d7>\u001b[0m in \u001b[0;36m<module>\u001b[0;34m\u001b[0m\n\u001b[1;32m      5\u001b[0m         \u001b[0mi\u001b[0m \u001b[0;34m=\u001b[0m \u001b[0;36m0\u001b[0m\u001b[0;34m\u001b[0m\u001b[0;34m\u001b[0m\u001b[0m\n\u001b[1;32m      6\u001b[0m         \u001b[0;32mfor\u001b[0m \u001b[0mtrain_index\u001b[0m\u001b[0;34m,\u001b[0m \u001b[0mtest_index\u001b[0m \u001b[0;32min\u001b[0m \u001b[0mkf\u001b[0m\u001b[0;34m.\u001b[0m\u001b[0msplit\u001b[0m\u001b[0;34m(\u001b[0m\u001b[0mtrain_corpus\u001b[0m\u001b[0;34m.\u001b[0m\u001b[0mcontent\u001b[0m\u001b[0;34m)\u001b[0m\u001b[0;34m:\u001b[0m\u001b[0;34m\u001b[0m\u001b[0;34m\u001b[0m\u001b[0m\n\u001b[0;32m----> 7\u001b[0;31m             \u001b[0mtrain_x\u001b[0m \u001b[0;34m=\u001b[0m \u001b[0mX\u001b[0m\u001b[0;34m[\u001b[0m\u001b[0mtrain_index\u001b[0m\u001b[0;34m]\u001b[0m\u001b[0;34m\u001b[0m\u001b[0;34m\u001b[0m\u001b[0m\n\u001b[0m\u001b[1;32m      8\u001b[0m             \u001b[0mtrain_y\u001b[0m \u001b[0;34m=\u001b[0m \u001b[0mY\u001b[0m\u001b[0;34m[\u001b[0m\u001b[0mtrain_index\u001b[0m\u001b[0;34m]\u001b[0m\u001b[0;34m\u001b[0m\u001b[0;34m\u001b[0m\u001b[0m\n\u001b[1;32m      9\u001b[0m             \u001b[0mtest_x\u001b[0m \u001b[0;34m=\u001b[0m \u001b[0mX\u001b[0m\u001b[0;34m[\u001b[0m\u001b[0mtest_index\u001b[0m\u001b[0;34m]\u001b[0m\u001b[0;34m\u001b[0m\u001b[0;34m\u001b[0m\u001b[0m\n",
      "\u001b[0;31mMemoryError\u001b[0m: "
     ]
    }
   ],
   "source": [
    "results = {}\n",
    "with tqdm(total=len(clasificadores) * 10) as pbar:\n",
    "    for c in clasificadores:\n",
    "        results[c] = { 'real': {}, 'predicted': {} }\n",
    "        i = 0\n",
    "        for train_index, test_index in kf.split(train_corpus.content):\n",
    "            train_x = X[train_index]\n",
    "            train_y = Y[train_index]\n",
    "            test_x = X[test_index]\n",
    "            test_y = Y[test_index]\n",
    "            print(train_y)\n",
    "            if c == 'bidiLstm':\n",
    "                train_x = [train_x, np.flipud(train_x)]\n",
    "                \n",
    "            pipeline[c].fit(train_x, train_y, batch_size=64, callbacks=cbks, epochs=1000, validation_split=0.25, shuffle=False, verbose=1)\n",
    "\n",
    "            predicted = pipeline[c].predict(test_x)\n",
    "\n",
    "            results[c]['real'][i] = test_y.tolist()\n",
    "            results[c]['predicted'][i] = predicted.tolist()\n",
    "            i = i + 1\n",
    "\n",
    "            pbar.update(1)\n",
    "\n",
    "    "
   ]
  },
  {
   "cell_type": "code",
   "execution_count": null,
   "metadata": {
    "ExecuteTime": {
     "end_time": "2019-02-20T14:30:28.371627Z",
     "start_time": "2019-02-20T13:52:59.988Z"
    }
   },
   "outputs": [],
   "source": [
    "results"
   ]
  },
  {
   "cell_type": "code",
   "execution_count": null,
   "metadata": {},
   "outputs": [],
   "source": []
  },
  {
   "cell_type": "code",
   "execution_count": null,
   "metadata": {
    "ExecuteTime": {
     "end_time": "2019-02-20T14:30:28.374955Z",
     "start_time": "2019-02-20T13:52:59.990Z"
    }
   },
   "outputs": [],
   "source": [
    "pd.DataFrame(results).to_pickle('data/results/'+name+'/cine/' + base_dir + '/' + name + '.pkl')"
   ]
  }
 ],
 "metadata": {
  "kernelspec": {
   "display_name": "Python 3",
   "language": "python",
   "name": "python3"
  },
  "language_info": {
   "codemirror_mode": {
    "name": "ipython",
    "version": 3
   },
   "file_extension": ".py",
   "mimetype": "text/x-python",
   "name": "python",
   "nbconvert_exporter": "python",
   "pygments_lexer": "ipython3",
   "version": "3.7.3"
  },
  "toc": {
   "base_numbering": 1,
   "nav_menu": {},
   "number_sections": true,
   "sideBar": true,
   "skip_h1_title": false,
   "title_cell": "Table of Contents",
   "title_sidebar": "Contents",
   "toc_cell": false,
   "toc_position": {
    "height": "calc(100% - 180px)",
    "left": "10px",
    "top": "150px",
    "width": "336px"
   },
   "toc_section_display": true,
   "toc_window_display": true
  }
 },
 "nbformat": 4,
 "nbformat_minor": 2
}
